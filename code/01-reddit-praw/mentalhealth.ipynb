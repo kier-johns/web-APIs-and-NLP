{
 "cells": [
  {
   "cell_type": "markdown",
   "id": "e2bced38-b940-41f9-aa99-de02ae51e799",
   "metadata": {},
   "source": [
    "# Retrieve posts from subreddit _mentalhealth_"
   ]
  },
  {
   "cell_type": "code",
   "execution_count": 2,
   "id": "660001c3-bd9d-492e-ba06-cab6dd7616cf",
   "metadata": {
    "tags": []
   },
   "outputs": [],
   "source": [
    "import pandas as pd\n",
    "import praw"
   ]
  },
  {
   "cell_type": "code",
   "execution_count": 3,
   "id": "69bab0f5-abf5-4783-9b90-02e5eed136f3",
   "metadata": {
    "tags": []
   },
   "outputs": [],
   "source": [
    "reddit = praw.Reddit(\n",
    "    client_id='',\n",
    "    client_secret='',\n",
    "    user_agent='',\n",
    "    username='',\n",
    "    password=''\n",
    ")"
   ]
  },
  {
   "cell_type": "markdown",
   "id": "b7ca0e98-bbfb-476f-8f73-5d3a943fac3e",
   "metadata": {},
   "source": [
    "**Once praw was completed, this information was redacted**"
   ]
  },
  {
   "cell_type": "code",
   "execution_count": 3,
   "id": "44664abe-a828-4789-8ae0-1e7e90b86d2c",
   "metadata": {
    "tags": []
   },
   "outputs": [],
   "source": [
    "data = []"
   ]
  },
  {
   "cell_type": "code",
   "execution_count": 22,
   "id": "301240a3-cfa3-49d1-b137-781b898ecb58",
   "metadata": {
    "tags": []
   },
   "outputs": [],
   "source": [
    "subreddit = reddit.subreddit('mentalhealth')\n",
    "posts = subreddit.rising(limit=4500)"
   ]
  },
  {
   "cell_type": "code",
   "execution_count": 23,
   "id": "62d9b584-aa51-418f-8cab-35d2a3dff121",
   "metadata": {
    "tags": []
   },
   "outputs": [
    {
     "data": {
      "text/html": [
       "<div>\n",
       "<style scoped>\n",
       "    .dataframe tbody tr th:only-of-type {\n",
       "        vertical-align: middle;\n",
       "    }\n",
       "\n",
       "    .dataframe tbody tr th {\n",
       "        vertical-align: top;\n",
       "    }\n",
       "\n",
       "    .dataframe thead th {\n",
       "        text-align: right;\n",
       "    }\n",
       "</style>\n",
       "<table border=\"1\" class=\"dataframe\">\n",
       "  <thead>\n",
       "    <tr style=\"text-align: right;\">\n",
       "      <th></th>\n",
       "      <th>created_utc</th>\n",
       "      <th>title</th>\n",
       "      <th>self_text</th>\n",
       "      <th>subreddit</th>\n",
       "    </tr>\n",
       "  </thead>\n",
       "  <tbody>\n",
       "    <tr>\n",
       "      <th>0</th>\n",
       "      <td>1.697558e+09</td>\n",
       "      <td>Am I lazy or depressed or anxious or do I just...</td>\n",
       "      <td>I want to start by saying...I do plan on meeti...</td>\n",
       "      <td>mentalhealth</td>\n",
       "    </tr>\n",
       "    <tr>\n",
       "      <th>1</th>\n",
       "      <td>1.697553e+09</td>\n",
       "      <td>is puking due to anxiety normal?</td>\n",
       "      <td>hi, i’ve recently been incredibly anxious and ...</td>\n",
       "      <td>mentalhealth</td>\n",
       "    </tr>\n",
       "    <tr>\n",
       "      <th>2</th>\n",
       "      <td>1.697558e+09</td>\n",
       "      <td>why are your 20's so lonely?</td>\n",
       "      <td>I'm a 22F who just moved into my first apartme...</td>\n",
       "      <td>mentalhealth</td>\n",
       "    </tr>\n",
       "    <tr>\n",
       "      <th>3</th>\n",
       "      <td>1.697563e+09</td>\n",
       "      <td>How can I fix my social anxiety and meet new p...</td>\n",
       "      <td>I'm in a small town and had bad experiences in...</td>\n",
       "      <td>mentalhealth</td>\n",
       "    </tr>\n",
       "    <tr>\n",
       "      <th>4</th>\n",
       "      <td>1.697556e+09</td>\n",
       "      <td>I am becoming the person I always wanted to be...</td>\n",
       "      <td>I have seen myself getting more and more monot...</td>\n",
       "      <td>mentalhealth</td>\n",
       "    </tr>\n",
       "  </tbody>\n",
       "</table>\n",
       "</div>"
      ],
      "text/plain": [
       "    created_utc                                              title  \\\n",
       "0  1.697558e+09  Am I lazy or depressed or anxious or do I just...   \n",
       "1  1.697553e+09                   is puking due to anxiety normal?   \n",
       "2  1.697558e+09                       why are your 20's so lonely?   \n",
       "3  1.697563e+09  How can I fix my social anxiety and meet new p...   \n",
       "4  1.697556e+09  I am becoming the person I always wanted to be...   \n",
       "\n",
       "                                           self_text     subreddit  \n",
       "0  I want to start by saying...I do plan on meeti...  mentalhealth  \n",
       "1  hi, i’ve recently been incredibly anxious and ...  mentalhealth  \n",
       "2  I'm a 22F who just moved into my first apartme...  mentalhealth  \n",
       "3  I'm in a small town and had bad experiences in...  mentalhealth  \n",
       "4  I have seen myself getting more and more monot...  mentalhealth  "
      ]
     },
     "execution_count": 23,
     "metadata": {},
     "output_type": "execute_result"
    }
   ],
   "source": [
    "for post in posts:\n",
    "    data.append([post.created_utc, post.title, post.selftext, post.subreddit])\n",
    "\n",
    "mentalhealth = pd.DataFrame(data, columns = ['created_utc', 'title', 'self_text', 'subreddit'])\n",
    "mentalhealth.head()"
   ]
  },
  {
   "cell_type": "code",
   "execution_count": 24,
   "id": "2bc0efd6-2c80-4589-877f-f618d205615b",
   "metadata": {
    "tags": []
   },
   "outputs": [
    {
     "data": {
      "text/plain": [
       "(3991, 4)"
      ]
     },
     "execution_count": 24,
     "metadata": {},
     "output_type": "execute_result"
    }
   ],
   "source": [
    "mentalhealth.shape"
   ]
  },
  {
   "cell_type": "code",
   "execution_count": 25,
   "id": "62dec000-0770-4bf3-bd7a-15e9163ffa50",
   "metadata": {
    "tags": []
   },
   "outputs": [
    {
     "data": {
      "text/plain": [
       "1998"
      ]
     },
     "execution_count": 25,
     "metadata": {},
     "output_type": "execute_result"
    }
   ],
   "source": [
    "mentalhealth.duplicated().sum()"
   ]
  },
  {
   "cell_type": "code",
   "execution_count": 26,
   "id": "33448054-5c70-4d6e-b847-2e8e16b7dfef",
   "metadata": {
    "tags": []
   },
   "outputs": [
    {
     "data": {
      "text/plain": [
       "created_utc    0\n",
       "title          0\n",
       "self_text      0\n",
       "subreddit      0\n",
       "dtype: int64"
      ]
     },
     "execution_count": 26,
     "metadata": {},
     "output_type": "execute_result"
    }
   ],
   "source": [
    "mentalhealth.isna().sum()"
   ]
  },
  {
   "cell_type": "code",
   "execution_count": 27,
   "id": "4bcc795f-a811-4aca-b6f2-34b58cc33762",
   "metadata": {
    "tags": []
   },
   "outputs": [],
   "source": [
    "mentalhealth.to_csv('mentalhealth_posts2.csv', index=False)"
   ]
  },
  {
   "cell_type": "code",
   "execution_count": null,
   "id": "1ef56987-4054-4385-ac0d-64709827020a",
   "metadata": {},
   "outputs": [],
   "source": []
  }
 ],
 "metadata": {
  "kernelspec": {
   "display_name": "Python 3 (ipykernel)",
   "language": "python",
   "name": "python3"
  },
  "language_info": {
   "codemirror_mode": {
    "name": "ipython",
    "version": 3
   },
   "file_extension": ".py",
   "mimetype": "text/x-python",
   "name": "python",
   "nbconvert_exporter": "python",
   "pygments_lexer": "ipython3",
   "version": "3.11.4"
  }
 },
 "nbformat": 4,
 "nbformat_minor": 5
}
