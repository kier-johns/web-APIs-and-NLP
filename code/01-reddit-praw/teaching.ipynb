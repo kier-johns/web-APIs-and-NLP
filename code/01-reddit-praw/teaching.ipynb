{
 "cells": [
  {
   "cell_type": "markdown",
   "id": "e2bced38-b940-41f9-aa99-de02ae51e799",
   "metadata": {},
   "source": [
    "# Retrieve posts from subreddit _Teaching_"
   ]
  },
  {
   "cell_type": "code",
   "execution_count": 1,
   "id": "660001c3-bd9d-492e-ba06-cab6dd7616cf",
   "metadata": {
    "tags": []
   },
   "outputs": [],
   "source": [
    "import pandas as pd\n",
    "import praw"
   ]
  },
  {
   "cell_type": "code",
   "execution_count": 2,
   "id": "69bab0f5-abf5-4783-9b90-02e5eed136f3",
   "metadata": {
    "tags": []
   },
   "outputs": [],
   "source": [
    "reddit = praw.Reddit(\n",
    "    client_id='',\n",
    "    client_secret='',\n",
    "    user_agent='',\n",
    "    username='',\n",
    "    password=''\n",
    ")"
   ]
  },
  {
   "cell_type": "markdown",
   "id": "c26d2f3d-1633-481f-847e-1b8bdeb76a08",
   "metadata": {},
   "source": [
    "**Once praw was completed, this information was redacted**"
   ]
  },
  {
   "cell_type": "code",
   "execution_count": 3,
   "id": "44664abe-a828-4789-8ae0-1e7e90b86d2c",
   "metadata": {
    "tags": []
   },
   "outputs": [],
   "source": [
    "data = []"
   ]
  },
  {
   "cell_type": "code",
   "execution_count": 21,
   "id": "301240a3-cfa3-49d1-b137-781b898ecb58",
   "metadata": {
    "tags": []
   },
   "outputs": [],
   "source": [
    "subreddit = reddit.subreddit('teaching')\n",
    "posts = subreddit.new(limit=10000)"
   ]
  },
  {
   "cell_type": "code",
   "execution_count": 22,
   "id": "62d9b584-aa51-418f-8cab-35d2a3dff121",
   "metadata": {
    "tags": []
   },
   "outputs": [
    {
     "data": {
      "text/html": [
       "<div>\n",
       "<style scoped>\n",
       "    .dataframe tbody tr th:only-of-type {\n",
       "        vertical-align: middle;\n",
       "    }\n",
       "\n",
       "    .dataframe tbody tr th {\n",
       "        vertical-align: top;\n",
       "    }\n",
       "\n",
       "    .dataframe thead th {\n",
       "        text-align: right;\n",
       "    }\n",
       "</style>\n",
       "<table border=\"1\" class=\"dataframe\">\n",
       "  <thead>\n",
       "    <tr style=\"text-align: right;\">\n",
       "      <th></th>\n",
       "      <th>created_utc</th>\n",
       "      <th>title</th>\n",
       "      <th>self_text</th>\n",
       "      <th>subreddit</th>\n",
       "    </tr>\n",
       "  </thead>\n",
       "  <tbody>\n",
       "    <tr>\n",
       "      <th>0</th>\n",
       "      <td>1.697477e+09</td>\n",
       "      <td>Most absurd thing a parent has complained about?</td>\n",
       "      <td>I was just thinking about this so I'll go firs...</td>\n",
       "      <td>teaching</td>\n",
       "    </tr>\n",
       "    <tr>\n",
       "      <th>1</th>\n",
       "      <td>1.697558e+09</td>\n",
       "      <td>How do you differentiate for students that can...</td>\n",
       "      <td>For context, I’m a 5th grade ELA teacher. I ha...</td>\n",
       "      <td>teaching</td>\n",
       "    </tr>\n",
       "    <tr>\n",
       "      <th>2</th>\n",
       "      <td>1.697568e+09</td>\n",
       "      <td>How to ask a teacher if I can observe their cl...</td>\n",
       "      <td>Hi yall !! I'm in a 5 year BEd program where w...</td>\n",
       "      <td>teaching</td>\n",
       "    </tr>\n",
       "    <tr>\n",
       "      <th>3</th>\n",
       "      <td>1.697489e+09</td>\n",
       "      <td>My TA is constantly being taken to support oth...</td>\n",
       "      <td>I guess I just want to see what other schools ...</td>\n",
       "      <td>teaching</td>\n",
       "    </tr>\n",
       "    <tr>\n",
       "      <th>4</th>\n",
       "      <td>1.697502e+09</td>\n",
       "      <td>Dropped out of college trying to be a teacher</td>\n",
       "      <td>TLDR:Dropped out but plan to return eventually...</td>\n",
       "      <td>teaching</td>\n",
       "    </tr>\n",
       "  </tbody>\n",
       "</table>\n",
       "</div>"
      ],
      "text/plain": [
       "    created_utc                                              title  \\\n",
       "0  1.697477e+09   Most absurd thing a parent has complained about?   \n",
       "1  1.697558e+09  How do you differentiate for students that can...   \n",
       "2  1.697568e+09  How to ask a teacher if I can observe their cl...   \n",
       "3  1.697489e+09  My TA is constantly being taken to support oth...   \n",
       "4  1.697502e+09      Dropped out of college trying to be a teacher   \n",
       "\n",
       "                                           self_text subreddit  \n",
       "0  I was just thinking about this so I'll go firs...  teaching  \n",
       "1  For context, I’m a 5th grade ELA teacher. I ha...  teaching  \n",
       "2  Hi yall !! I'm in a 5 year BEd program where w...  teaching  \n",
       "3  I guess I just want to see what other schools ...  teaching  \n",
       "4  TLDR:Dropped out but plan to return eventually...  teaching  "
      ]
     },
     "execution_count": 22,
     "metadata": {},
     "output_type": "execute_result"
    }
   ],
   "source": [
    "for post in posts:\n",
    "    data.append([post.created_utc, post.title, post.selftext, post.subreddit])\n",
    "\n",
    "teaching = pd.DataFrame(data, columns = ['created_utc', 'title', 'self_text', 'subreddit'])\n",
    "teaching.head()"
   ]
  },
  {
   "cell_type": "code",
   "execution_count": 23,
   "id": "2bc0efd6-2c80-4589-877f-f618d205615b",
   "metadata": {
    "tags": []
   },
   "outputs": [
    {
     "data": {
      "text/plain": [
       "(3463, 4)"
      ]
     },
     "execution_count": 23,
     "metadata": {},
     "output_type": "execute_result"
    }
   ],
   "source": [
    "teaching.shape"
   ]
  },
  {
   "cell_type": "code",
   "execution_count": 24,
   "id": "15898a50-eac4-4fb8-acf7-79c3f0fec222",
   "metadata": {
    "tags": []
   },
   "outputs": [
    {
     "data": {
      "text/plain": [
       "1552"
      ]
     },
     "execution_count": 24,
     "metadata": {},
     "output_type": "execute_result"
    }
   ],
   "source": [
    "teaching.duplicated().sum()"
   ]
  },
  {
   "cell_type": "code",
   "execution_count": 26,
   "id": "33448054-5c70-4d6e-b847-2e8e16b7dfef",
   "metadata": {
    "tags": []
   },
   "outputs": [
    {
     "data": {
      "text/plain": [
       "created_utc    0\n",
       "title          0\n",
       "self_text      0\n",
       "subreddit      0\n",
       "dtype: int64"
      ]
     },
     "execution_count": 26,
     "metadata": {},
     "output_type": "execute_result"
    }
   ],
   "source": [
    "teaching.isna().sum()"
   ]
  },
  {
   "cell_type": "code",
   "execution_count": 25,
   "id": "4bcc795f-a811-4aca-b6f2-34b58cc33762",
   "metadata": {
    "tags": []
   },
   "outputs": [],
   "source": [
    "teaching.to_csv('teaching_posts.csv', index=False)"
   ]
  },
  {
   "cell_type": "code",
   "execution_count": null,
   "id": "1ef56987-4054-4385-ac0d-64709827020a",
   "metadata": {},
   "outputs": [],
   "source": []
  }
 ],
 "metadata": {
  "kernelspec": {
   "display_name": "Python 3 (ipykernel)",
   "language": "python",
   "name": "python3"
  },
  "language_info": {
   "codemirror_mode": {
    "name": "ipython",
    "version": 3
   },
   "file_extension": ".py",
   "mimetype": "text/x-python",
   "name": "python",
   "nbconvert_exporter": "python",
   "pygments_lexer": "ipython3",
   "version": "3.11.4"
  }
 },
 "nbformat": 4,
 "nbformat_minor": 5
}
