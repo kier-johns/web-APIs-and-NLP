{
 "cells": [
  {
   "cell_type": "markdown",
   "id": "d900f031-824a-496c-a0fd-2b2a9412fa84",
   "metadata": {},
   "source": [
    "# Imports:"
   ]
  },
  {
   "cell_type": "code",
   "execution_count": 1,
   "id": "1a9feac7-5b4c-43d5-8072-a51c7f21425c",
   "metadata": {
    "tags": []
   },
   "outputs": [],
   "source": [
    "import numpy as np\n",
    "import pandas as pd"
   ]
  },
  {
   "cell_type": "markdown",
   "id": "ecc05618-083a-454d-84a6-46325b8c6d6b",
   "metadata": {},
   "source": [
    "# Cleaning _Teaching_"
   ]
  },
  {
   "cell_type": "code",
   "execution_count": 2,
   "id": "d7b5e7af-2ce2-4174-b872-28cbfc02b752",
   "metadata": {
    "tags": []
   },
   "outputs": [],
   "source": [
    "teaching = pd.read_csv('../data/teaching_posts.csv')"
   ]
  },
  {
   "cell_type": "code",
   "execution_count": 3,
   "id": "e58b008b-6fd3-4826-94e9-00445a13fd00",
   "metadata": {
    "tags": []
   },
   "outputs": [
    {
     "data": {
      "text/html": [
       "<div>\n",
       "<style scoped>\n",
       "    .dataframe tbody tr th:only-of-type {\n",
       "        vertical-align: middle;\n",
       "    }\n",
       "\n",
       "    .dataframe tbody tr th {\n",
       "        vertical-align: top;\n",
       "    }\n",
       "\n",
       "    .dataframe thead th {\n",
       "        text-align: right;\n",
       "    }\n",
       "</style>\n",
       "<table border=\"1\" class=\"dataframe\">\n",
       "  <thead>\n",
       "    <tr style=\"text-align: right;\">\n",
       "      <th></th>\n",
       "      <th>created_utc</th>\n",
       "      <th>title</th>\n",
       "      <th>self_text</th>\n",
       "      <th>subreddit</th>\n",
       "    </tr>\n",
       "  </thead>\n",
       "  <tbody>\n",
       "    <tr>\n",
       "      <th>0</th>\n",
       "      <td>1.697477e+09</td>\n",
       "      <td>Most absurd thing a parent has complained about?</td>\n",
       "      <td>I was just thinking about this so I'll go firs...</td>\n",
       "      <td>teaching</td>\n",
       "    </tr>\n",
       "    <tr>\n",
       "      <th>1</th>\n",
       "      <td>1.697558e+09</td>\n",
       "      <td>How do you differentiate for students that can...</td>\n",
       "      <td>For context, I’m a 5th grade ELA teacher. I ha...</td>\n",
       "      <td>teaching</td>\n",
       "    </tr>\n",
       "    <tr>\n",
       "      <th>2</th>\n",
       "      <td>1.697568e+09</td>\n",
       "      <td>How to ask a teacher if I can observe their cl...</td>\n",
       "      <td>Hi yall !! I'm in a 5 year BEd program where w...</td>\n",
       "      <td>teaching</td>\n",
       "    </tr>\n",
       "    <tr>\n",
       "      <th>3</th>\n",
       "      <td>1.697489e+09</td>\n",
       "      <td>My TA is constantly being taken to support oth...</td>\n",
       "      <td>I guess I just want to see what other schools ...</td>\n",
       "      <td>teaching</td>\n",
       "    </tr>\n",
       "    <tr>\n",
       "      <th>4</th>\n",
       "      <td>1.697502e+09</td>\n",
       "      <td>Dropped out of college trying to be a teacher</td>\n",
       "      <td>TLDR:Dropped out but plan to return eventually...</td>\n",
       "      <td>teaching</td>\n",
       "    </tr>\n",
       "  </tbody>\n",
       "</table>\n",
       "</div>"
      ],
      "text/plain": [
       "    created_utc                                              title  \\\n",
       "0  1.697477e+09   Most absurd thing a parent has complained about?   \n",
       "1  1.697558e+09  How do you differentiate for students that can...   \n",
       "2  1.697568e+09  How to ask a teacher if I can observe their cl...   \n",
       "3  1.697489e+09  My TA is constantly being taken to support oth...   \n",
       "4  1.697502e+09      Dropped out of college trying to be a teacher   \n",
       "\n",
       "                                           self_text subreddit  \n",
       "0  I was just thinking about this so I'll go firs...  teaching  \n",
       "1  For context, I’m a 5th grade ELA teacher. I ha...  teaching  \n",
       "2  Hi yall !! I'm in a 5 year BEd program where w...  teaching  \n",
       "3  I guess I just want to see what other schools ...  teaching  \n",
       "4  TLDR:Dropped out but plan to return eventually...  teaching  "
      ]
     },
     "execution_count": 3,
     "metadata": {},
     "output_type": "execute_result"
    }
   ],
   "source": [
    "teaching.head()"
   ]
  },
  {
   "cell_type": "code",
   "execution_count": 4,
   "id": "93257634-8d95-4023-b799-88f0a3ba6275",
   "metadata": {
    "tags": []
   },
   "outputs": [
    {
     "data": {
      "text/plain": [
       "(3463, 4)"
      ]
     },
     "execution_count": 4,
     "metadata": {},
     "output_type": "execute_result"
    }
   ],
   "source": [
    "teaching.shape"
   ]
  },
  {
   "cell_type": "code",
   "execution_count": 5,
   "id": "7c628986-d696-4e34-ae52-c1010cfd31d4",
   "metadata": {
    "tags": []
   },
   "outputs": [
    {
     "data": {
      "text/plain": [
       "created_utc      0\n",
       "title            0\n",
       "self_text      605\n",
       "subreddit        0\n",
       "dtype: int64"
      ]
     },
     "execution_count": 5,
     "metadata": {},
     "output_type": "execute_result"
    }
   ],
   "source": [
    "teaching.isna().sum()"
   ]
  },
  {
   "cell_type": "markdown",
   "id": "752b8ebf-2df6-4743-a2f0-d60d9494b9bd",
   "metadata": {},
   "source": [
    "> Get rid of all rows that include missings. This typically means there is a video or photo attached in the self_text."
   ]
  },
  {
   "cell_type": "code",
   "execution_count": 6,
   "id": "d273413e-18ad-4c23-9858-849e1847eb3d",
   "metadata": {},
   "outputs": [],
   "source": [
    "teaching.dropna(inplace=True)"
   ]
  },
  {
   "cell_type": "code",
   "execution_count": 7,
   "id": "93c6f711-7f48-472b-a407-ef04dd6f0803",
   "metadata": {
    "tags": []
   },
   "outputs": [
    {
     "data": {
      "text/plain": [
       "created_utc    0\n",
       "title          0\n",
       "self_text      0\n",
       "subreddit      0\n",
       "dtype: int64"
      ]
     },
     "execution_count": 7,
     "metadata": {},
     "output_type": "execute_result"
    }
   ],
   "source": [
    "teaching.isna().sum()"
   ]
  },
  {
   "cell_type": "code",
   "execution_count": 8,
   "id": "31e50f41-9ca2-4b99-b12c-c4396b21401d",
   "metadata": {
    "tags": []
   },
   "outputs": [
    {
     "data": {
      "text/plain": [
       "(2858, 4)"
      ]
     },
     "execution_count": 8,
     "metadata": {},
     "output_type": "execute_result"
    }
   ],
   "source": [
    "teaching.shape"
   ]
  },
  {
   "cell_type": "code",
   "execution_count": 9,
   "id": "8d387af9-6a3f-4856-9aa5-5337dd6eab56",
   "metadata": {
    "tags": []
   },
   "outputs": [
    {
     "data": {
      "text/plain": [
       "1438"
      ]
     },
     "execution_count": 9,
     "metadata": {},
     "output_type": "execute_result"
    }
   ],
   "source": [
    "teaching.duplicated().sum()"
   ]
  },
  {
   "cell_type": "code",
   "execution_count": 10,
   "id": "22b0eeb3-82de-4cdd-a43f-22d67d75b90a",
   "metadata": {
    "tags": []
   },
   "outputs": [],
   "source": [
    "teaching.drop_duplicates(inplace=True)"
   ]
  },
  {
   "cell_type": "code",
   "execution_count": 11,
   "id": "22813b63-9036-4db5-8ed6-40dacb794d7a",
   "metadata": {
    "tags": []
   },
   "outputs": [
    {
     "data": {
      "text/plain": [
       "(1420, 4)"
      ]
     },
     "execution_count": 11,
     "metadata": {},
     "output_type": "execute_result"
    }
   ],
   "source": [
    "teaching.shape"
   ]
  },
  {
   "cell_type": "code",
   "execution_count": 12,
   "id": "b5014f75-da72-4357-8c16-40aede43534f",
   "metadata": {
    "tags": []
   },
   "outputs": [],
   "source": [
    "teaching.to_csv('cleaned_teaching_posts.csv', index=False)"
   ]
  },
  {
   "cell_type": "markdown",
   "id": "fb40e414-656d-4a4e-a846-6e6d26ba948d",
   "metadata": {},
   "source": [
    "# Cleaning _mentalhealth_"
   ]
  },
  {
   "cell_type": "code",
   "execution_count": 13,
   "id": "c002afee-5546-46ab-9d02-3d99e3b62e59",
   "metadata": {
    "tags": []
   },
   "outputs": [],
   "source": [
    "mental_health = pd.read_csv('../data/mentalhealth_posts.csv')"
   ]
  },
  {
   "cell_type": "code",
   "execution_count": 14,
   "id": "d2229959-7db7-4cad-8f13-f95f2f38f547",
   "metadata": {
    "tags": []
   },
   "outputs": [
    {
     "data": {
      "text/plain": [
       "(3991, 4)"
      ]
     },
     "execution_count": 14,
     "metadata": {},
     "output_type": "execute_result"
    }
   ],
   "source": [
    "mental_health.shape"
   ]
  },
  {
   "cell_type": "code",
   "execution_count": 15,
   "id": "1e14f6f5-0253-4db5-8738-fd439cdebed7",
   "metadata": {
    "tags": []
   },
   "outputs": [
    {
     "data": {
      "text/plain": [
       "created_utc      0\n",
       "title            0\n",
       "self_text      110\n",
       "subreddit        0\n",
       "dtype: int64"
      ]
     },
     "execution_count": 15,
     "metadata": {},
     "output_type": "execute_result"
    }
   ],
   "source": [
    "mental_health.isna().sum()"
   ]
  },
  {
   "cell_type": "code",
   "execution_count": 16,
   "id": "06eb8884-0aa8-4665-966d-3429ce632721",
   "metadata": {
    "tags": []
   },
   "outputs": [],
   "source": [
    "mental_health.dropna(inplace=True)"
   ]
  },
  {
   "cell_type": "code",
   "execution_count": 17,
   "id": "4c512a30-c305-43d4-b8da-c58054050ebe",
   "metadata": {
    "tags": []
   },
   "outputs": [
    {
     "data": {
      "text/plain": [
       "created_utc    0\n",
       "title          0\n",
       "self_text      0\n",
       "subreddit      0\n",
       "dtype: int64"
      ]
     },
     "execution_count": 17,
     "metadata": {},
     "output_type": "execute_result"
    }
   ],
   "source": [
    "mental_health.isna().sum()"
   ]
  },
  {
   "cell_type": "code",
   "execution_count": 18,
   "id": "d308bf1e-eb9a-4ecd-b7c9-8d68985b7f03",
   "metadata": {
    "tags": []
   },
   "outputs": [
    {
     "data": {
      "text/plain": [
       "(3881, 4)"
      ]
     },
     "execution_count": 18,
     "metadata": {},
     "output_type": "execute_result"
    }
   ],
   "source": [
    "mental_health.shape"
   ]
  },
  {
   "cell_type": "code",
   "execution_count": 19,
   "id": "22447d82-d9e6-4e7a-a997-92571d181ed3",
   "metadata": {},
   "outputs": [
    {
     "data": {
      "text/plain": [
       "1988"
      ]
     },
     "execution_count": 19,
     "metadata": {},
     "output_type": "execute_result"
    }
   ],
   "source": [
    "mental_health.duplicated().sum()"
   ]
  },
  {
   "cell_type": "code",
   "execution_count": 20,
   "id": "d3a87283-674a-48d4-a5e1-d5769b731100",
   "metadata": {
    "tags": []
   },
   "outputs": [],
   "source": [
    "mental_health.drop_duplicates(inplace=True)"
   ]
  },
  {
   "cell_type": "code",
   "execution_count": 21,
   "id": "2cb0c92b-1a2f-456f-bfa1-bf857d1028f5",
   "metadata": {
    "tags": []
   },
   "outputs": [
    {
     "data": {
      "text/plain": [
       "(1893, 4)"
      ]
     },
     "execution_count": 21,
     "metadata": {},
     "output_type": "execute_result"
    }
   ],
   "source": [
    "mental_health.shape"
   ]
  },
  {
   "cell_type": "markdown",
   "id": "372728e4-dbcb-49b3-80fc-408a24608cc7",
   "metadata": {},
   "source": [
    "> This data set has much more data than teacher_reality (after dropna I was only left with 1500 posts). I am going to gather more data for the previous data set and repeat this process. I want them to have close to equal data inputs"
   ]
  },
  {
   "cell_type": "code",
   "execution_count": 22,
   "id": "b94803b9-0829-438d-86a2-d76f90f5dc93",
   "metadata": {
    "tags": []
   },
   "outputs": [],
   "source": [
    "mental_health.to_csv('cleaned_mentalhealth_posts.csv', index=False)"
   ]
  },
  {
   "cell_type": "markdown",
   "id": "8ca35c7b-3f50-404e-a398-b88cc055b76f",
   "metadata": {},
   "source": [
    "# Combining Dataframes:"
   ]
  },
  {
   "cell_type": "code",
   "execution_count": 23,
   "id": "fce4ffd0-08db-473a-9fb3-16900f7b7880",
   "metadata": {
    "tags": []
   },
   "outputs": [],
   "source": [
    "combo = pd.concat([teaching, mental_health], axis = 0)"
   ]
  },
  {
   "cell_type": "code",
   "execution_count": 24,
   "id": "bdf1c0bb-e42b-4052-b4a3-7905ab3f980c",
   "metadata": {
    "tags": []
   },
   "outputs": [
    {
     "data": {
      "text/html": [
       "<div>\n",
       "<style scoped>\n",
       "    .dataframe tbody tr th:only-of-type {\n",
       "        vertical-align: middle;\n",
       "    }\n",
       "\n",
       "    .dataframe tbody tr th {\n",
       "        vertical-align: top;\n",
       "    }\n",
       "\n",
       "    .dataframe thead th {\n",
       "        text-align: right;\n",
       "    }\n",
       "</style>\n",
       "<table border=\"1\" class=\"dataframe\">\n",
       "  <thead>\n",
       "    <tr style=\"text-align: right;\">\n",
       "      <th></th>\n",
       "      <th>created_utc</th>\n",
       "      <th>title</th>\n",
       "      <th>self_text</th>\n",
       "      <th>subreddit</th>\n",
       "    </tr>\n",
       "  </thead>\n",
       "  <tbody>\n",
       "    <tr>\n",
       "      <th>0</th>\n",
       "      <td>1.697477e+09</td>\n",
       "      <td>Most absurd thing a parent has complained about?</td>\n",
       "      <td>I was just thinking about this so I'll go firs...</td>\n",
       "      <td>teaching</td>\n",
       "    </tr>\n",
       "    <tr>\n",
       "      <th>1</th>\n",
       "      <td>1.697558e+09</td>\n",
       "      <td>How do you differentiate for students that can...</td>\n",
       "      <td>For context, I’m a 5th grade ELA teacher. I ha...</td>\n",
       "      <td>teaching</td>\n",
       "    </tr>\n",
       "    <tr>\n",
       "      <th>2</th>\n",
       "      <td>1.697568e+09</td>\n",
       "      <td>How to ask a teacher if I can observe their cl...</td>\n",
       "      <td>Hi yall !! I'm in a 5 year BEd program where w...</td>\n",
       "      <td>teaching</td>\n",
       "    </tr>\n",
       "    <tr>\n",
       "      <th>3</th>\n",
       "      <td>1.697489e+09</td>\n",
       "      <td>My TA is constantly being taken to support oth...</td>\n",
       "      <td>I guess I just want to see what other schools ...</td>\n",
       "      <td>teaching</td>\n",
       "    </tr>\n",
       "    <tr>\n",
       "      <th>4</th>\n",
       "      <td>1.697502e+09</td>\n",
       "      <td>Dropped out of college trying to be a teacher</td>\n",
       "      <td>TLDR:Dropped out but plan to return eventually...</td>\n",
       "      <td>teaching</td>\n",
       "    </tr>\n",
       "  </tbody>\n",
       "</table>\n",
       "</div>"
      ],
      "text/plain": [
       "    created_utc                                              title  \\\n",
       "0  1.697477e+09   Most absurd thing a parent has complained about?   \n",
       "1  1.697558e+09  How do you differentiate for students that can...   \n",
       "2  1.697568e+09  How to ask a teacher if I can observe their cl...   \n",
       "3  1.697489e+09  My TA is constantly being taken to support oth...   \n",
       "4  1.697502e+09      Dropped out of college trying to be a teacher   \n",
       "\n",
       "                                           self_text subreddit  \n",
       "0  I was just thinking about this so I'll go firs...  teaching  \n",
       "1  For context, I’m a 5th grade ELA teacher. I ha...  teaching  \n",
       "2  Hi yall !! I'm in a 5 year BEd program where w...  teaching  \n",
       "3  I guess I just want to see what other schools ...  teaching  \n",
       "4  TLDR:Dropped out but plan to return eventually...  teaching  "
      ]
     },
     "execution_count": 24,
     "metadata": {},
     "output_type": "execute_result"
    }
   ],
   "source": [
    "combo.head()"
   ]
  },
  {
   "cell_type": "code",
   "execution_count": 25,
   "id": "ef6e3117-cc98-4e95-9011-6b96dadc4362",
   "metadata": {
    "tags": []
   },
   "outputs": [
    {
     "data": {
      "text/plain": [
       "(3313, 4)"
      ]
     },
     "execution_count": 25,
     "metadata": {},
     "output_type": "execute_result"
    }
   ],
   "source": [
    "combo.shape"
   ]
  },
  {
   "cell_type": "code",
   "execution_count": 26,
   "id": "b6fc1ffe-456d-4f92-8b03-0ec3a7eae75c",
   "metadata": {
    "tags": []
   },
   "outputs": [],
   "source": [
    "combo.to_csv('combo.csv', index=False)"
   ]
  },
  {
   "cell_type": "code",
   "execution_count": null,
   "id": "418476d1-7196-45c6-87d4-edd30c09e357",
   "metadata": {},
   "outputs": [],
   "source": []
  }
 ],
 "metadata": {
  "kernelspec": {
   "display_name": "Python 3 (ipykernel)",
   "language": "python",
   "name": "python3"
  },
  "language_info": {
   "codemirror_mode": {
    "name": "ipython",
    "version": 3
   },
   "file_extension": ".py",
   "mimetype": "text/x-python",
   "name": "python",
   "nbconvert_exporter": "python",
   "pygments_lexer": "ipython3",
   "version": "3.11.4"
  }
 },
 "nbformat": 4,
 "nbformat_minor": 5
}
